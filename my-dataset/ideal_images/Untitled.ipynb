{
 "cells": [
  {
   "cell_type": "code",
   "execution_count": 3,
   "id": "976a0462-7f11-49a5-8436-47d694ae88b9",
   "metadata": {},
   "outputs": [
    {
     "name": "stdout",
     "output_type": "stream",
     "text": [
      "Defaulting to user installation because normal site-packages is not writeable\n",
      "Collecting jsonlines\n",
      "  Downloading jsonlines-3.1.0-py3-none-any.whl (8.6 kB)\n",
      "Requirement already satisfied: attrs>=19.2.0 in /usr/lib/python3/dist-packages (from jsonlines) (19.3.0)\n",
      "Installing collected packages: jsonlines\n",
      "Successfully installed jsonlines-3.1.0\n"
     ]
    }
   ],
   "source": [
    "!pip install jsonlines\n",
    "import jsonlines"
   ]
  },
  {
   "cell_type": "code",
   "execution_count": 13,
   "id": "d01c4cdd-09de-4f45-88cc-ed34c382d073",
   "metadata": {},
   "outputs": [],
   "source": [
    "from PIL import Image\n",
    "with jsonlines.open('metadata.jsonl') as reader:\n",
    "    for obj in reader:\n",
    "        im = Image.open(obj['file_name'])\n",
    "        \n",
    "        if len(im.mode)==4:\n",
    "            # rgb_im = im.convert('RGB')\n",
    "            # rgb_im.save(obj['file_name'])\n",
    "            print(obj['file_name'])"
   ]
  },
  {
   "cell_type": "code",
   "execution_count": 16,
   "id": "80a8f67f-ad4c-4afa-bdba-44b82535343a",
   "metadata": {},
   "outputs": [
    {
     "name": "stdout",
     "output_type": "stream",
     "text": [
      "train/Doctor AI/Centered.png\n",
      "train/Waifu/Template1 (5).png\n",
      "train/Arabic Man/Template1 (1).png\n",
      "train/Imaginary Person/ZC10.png\n",
      "train/Imaginary Person/ZZ32 (1).png\n",
      "train/Imaginary Person/ZZ43 (2).png\n",
      "train/Imaginary Person/ZZ43 (1).png\n"
     ]
    }
   ],
   "source": [
    "from PIL import Image\n",
    "import shutil\n",
    "with jsonlines.open('metadata.jsonl') as reader:\n",
    "    for obj in reader:\n",
    "        fn = obj['file_name']\n",
    "        if '.png' in fn:\n",
    "            print(fn)\n",
    "            shutil.move(fn, fn.replace('.png','.jpg'))"
   ]
  },
  {
   "cell_type": "code",
   "execution_count": null,
   "id": "0d0aefde-9d04-40e5-84d2-72b47beaabfe",
   "metadata": {},
   "outputs": [],
   "source": []
  }
 ],
 "metadata": {
  "kernelspec": {
   "display_name": "Python 3",
   "language": "python",
   "name": "python3"
  },
  "language_info": {
   "codemirror_mode": {
    "name": "ipython",
    "version": 3
   },
   "file_extension": ".py",
   "mimetype": "text/x-python",
   "name": "python",
   "nbconvert_exporter": "python",
   "pygments_lexer": "ipython3",
   "version": "3.8.10"
  }
 },
 "nbformat": 4,
 "nbformat_minor": 5
}

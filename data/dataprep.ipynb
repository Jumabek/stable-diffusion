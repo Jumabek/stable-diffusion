{
 "cells": [
  {
   "cell_type": "code",
   "execution_count": null,
   "metadata": {},
   "outputs": [],
   "source": [
    "\n",
    "from glob import glob\n",
    "import os\n",
    "import ntpath\n",
    "from os.path import join\n",
    "\n",
    "num_files = 0\n",
    "items = []\n",
    "datadir = '/home/ubuntu/ideal_images/train/'\n",
    "for d in os.walk(datadir):\n",
    "    caption = ntpath.basename(d[0])\n",
    "    files = d[2]\n",
    "    #print(f'---{caption}, {len(files)}---')\n",
    "    num_files+=len(files)\n",
    "    for f in files:\n",
    "        print(d[0],'|||',f)\n",
    "        meta = {\"file_name\": join('train',caption,f), \"text\": f'NFT portrait of {caption}'}\n",
    "        items.append(meta)"
   ]
  },
  {
   "cell_type": "code",
   "execution_count": null,
   "metadata": {},
   "outputs": [],
   "source": [
    "import jsonlines\n",
    "\n",
    "\n",
    "with jsonlines.open('metadata.jsonl', 'w') as outfile:\n",
    "    outfile.write_all(items)"
   ]
  },
  {
   "cell_type": "code",
   "execution_count": null,
   "metadata": {},
   "outputs": [],
   "source": [
    "from datasets import load_dataset\n",
    "dataset = load_dataset(\n",
    "    \"imagefolder\", data_dir='/home/ubuntu/ideal_images'\n",
    "    , split=\"train\"\n",
    ")"
   ]
  }
 ],
 "metadata": {
  "language_info": {
   "name": "python"
  },
  "orig_nbformat": 4
 },
 "nbformat": 4,
 "nbformat_minor": 2
}
